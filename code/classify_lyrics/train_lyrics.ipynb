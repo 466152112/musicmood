{
 "metadata": {
  "name": "",
  "signature": "sha256:b52579a7f9fd53079b5188b464a5c0939238a1dcb16b88d84b477139f572b9d9"
 },
 "nbformat": 3,
 "nbformat_minor": 0,
 "worksheets": [
  {
   "cells": [
    {
     "cell_type": "code",
     "collapsed": false,
     "input": [
      "%load_ext watermark"
     ],
     "language": "python",
     "metadata": {},
     "outputs": [],
     "prompt_number": 1
    },
    {
     "cell_type": "code",
     "collapsed": false,
     "input": [
      "%watermark -d -v -a 'Sebastian Raschka' -p scikit-learn,nltk,numpy"
     ],
     "language": "python",
     "metadata": {},
     "outputs": [
      {
       "output_type": "stream",
       "stream": "stdout",
       "text": [
        "Sebastian Raschka 07/12/2014 \n",
        "\n",
        "CPython 2.7.8\n",
        "IPython 2.1.0\n",
        "\n",
        "scikit-learn 0.15.2\n",
        "nltk 3.0.0\n",
        "numpy 1.9.1\n"
       ]
      }
     ],
     "prompt_number": 2
    },
    {
     "cell_type": "markdown",
     "metadata": {},
     "source": [
      "<font size=\"1.5em\">[More information](https://github.com/rasbt/watermark) about the `watermark` magic command extension.</font>"
     ]
    },
    {
     "cell_type": "markdown",
     "metadata": {},
     "source": [
      "<br>\n",
      "<br>"
     ]
    },
    {
     "cell_type": "heading",
     "level": 1,
     "metadata": {},
     "source": [
      "Lyrics Mood Classification - Training"
     ]
    },
    {
     "cell_type": "markdown",
     "metadata": {},
     "source": [
      "<br>\n",
      "<br>"
     ]
    },
    {
     "cell_type": "heading",
     "level": 3,
     "metadata": {},
     "source": [
      "Sections"
     ]
    },
    {
     "cell_type": "markdown",
     "metadata": {},
     "source": [
      "- [Preprocessing](#Preprocessing)\n",
      "    - [Reading the dataset](#Reading-the-dataset)\n",
      "    - [Label Encoder](#Label-Encoder)\n",
      "    - [Feature extraction: Word counts and Vectorizers](#Feature-extraction:-Word-counts-and-Vectorizers)\n",
      "        - [Porter Stemmer](#Porter-Stemmer)\n",
      "        - [Stop word list](#Stop-word-list)\n",
      "        - [Count Vectorizer](#Count-Vectorizer)\n",
      "        - [Tfidf Vectorizer](#Tfidf-Vectorizer)\n",
      "- [Model Selection](#Model-Selection)\n",
      "    - [Grid search and hyperparameter tuning](#Grid-search-and-hyperparameter-tuning)\n",
      "        - [Grid Search](#Grid-Search)\n",
      "        - [Grid Search ROC Curves](#Grid-Search-ROC-Curves)\n",
      "        - [Hyperparameter tuning 1 - max_features](#Hyperparameter-tuning-1---max_features)\n",
      "        - [Hyperparameter tuning 2 - min_df](#Hyperparameter-tuning-2---min_df)\n",
      "        - [Hyperparameter tuning 3 - alpha](#Hyperparameter-tuning-3---alpha)\n",
      "- [Validation](#Validation)\n",
      "    - [Confusion matrix](#Confusion-matrix)\n",
      "    - [ROC AUC, Accuracy, Precision, Recall, and F1-score](#ROC-AUC,-Accuracy,-Precision,-Recall,-and-F1-score)\n",
      "- [Save classifier](#Save-classifier)"
     ]
    },
    {
     "cell_type": "markdown",
     "metadata": {},
     "source": [
      "<br>\n",
      "<br>"
     ]
    },
    {
     "cell_type": "heading",
     "level": 1,
     "metadata": {},
     "source": [
      "Preprocessing"
     ]
    },
    {
     "cell_type": "markdown",
     "metadata": {},
     "source": [
      "[[back to top](#Sections)]"
     ]
    },
    {
     "cell_type": "markdown",
     "metadata": {},
     "source": [
      "<br>\n",
      "<br>"
     ]
    },
    {
     "cell_type": "heading",
     "level": 3,
     "metadata": {},
     "source": [
      "Reading the dataset"
     ]
    },
    {
     "cell_type": "markdown",
     "metadata": {},
     "source": [
      "[[back to top](#Sections)]"
     ]
    },
    {
     "cell_type": "code",
     "collapsed": false,
     "input": [
      "import pandas as pd\n",
      "\n",
      "df = pd.read_csv('../../dataset/training/train_lyrics_1000.csv')\n",
      "\n",
      "df.head()"
     ],
     "language": "python",
     "metadata": {},
     "outputs": [
      {
       "output_type": "stream",
       "stream": "stderr",
       "text": [
        "/Users/sebastian/miniconda3/envs/py27/lib/python2.7/site-packages/pandas/core/common.py:276: DeprecationWarning: numpy boolean negative (the unary `-` operator) is deprecated, use the bitwise_xor (the `^` operator) or the logical_xor function instead.\n",
        "  return -res\n",
        "/Users/sebastian/miniconda3/envs/py27/lib/python2.7/site-packages/pandas/core/common.py:276: DeprecationWarning: numpy boolean negative (the unary `-` operator) is deprecated, use the bitwise_xor (the `^` operator) or the logical_xor function instead.\n",
        "  return -res\n",
        "/Users/sebastian/miniconda3/envs/py27/lib/python2.7/site-packages/pandas/core/common.py:276: DeprecationWarning: numpy boolean negative (the unary `-` operator) is deprecated, use the bitwise_xor (the `^` operator) or the logical_xor function instead.\n",
        "  return -res\n",
        "/Users/sebastian/miniconda3/envs/py27/lib/python2.7/site-packages/pandas/core/common.py:276: DeprecationWarning: numpy boolean negative (the unary `-` operator) is deprecated, use the bitwise_xor (the `^` operator) or the logical_xor function instead.\n",
        "  return -res\n",
        "/Users/sebastian/miniconda3/envs/py27/lib/python2.7/site-packages/pandas/core/common.py:276: DeprecationWarning: numpy boolean negative (the unary `-` operator) is deprecated, use the bitwise_xor (the `^` operator) or the logical_xor function instead.\n",
        "  return -res\n",
        "/Users/sebastian/miniconda3/envs/py27/lib/python2.7/site-packages/pandas/core/common.py:276: DeprecationWarning: numpy boolean negative (the unary `-` operator) is deprecated, use the bitwise_xor (the `^` operator) or the logical_xor function instead.\n",
        "  return -res\n",
        "/Users/sebastian/miniconda3/envs/py27/lib/python2.7/site-packages/pandas/core/common.py:276: DeprecationWarning: numpy boolean negative (the unary `-` operator) is deprecated, use the bitwise_xor (the `^` operator) or the logical_xor function instead.\n",
        "  return -res\n",
        "/Users/sebastian/miniconda3/envs/py27/lib/python2.7/site-packages/pandas/core/common.py:276: DeprecationWarning: numpy boolean negative (the unary `-` operator) is deprecated, use the bitwise_xor (the `^` operator) or the logical_xor function instead.\n",
        "  return -res\n",
        "/Users/sebastian/miniconda3/envs/py27/lib/python2.7/site-packages/pandas/core/common.py:276: DeprecationWarning: numpy boolean negative (the unary `-` operator) is deprecated, use the bitwise_xor (the `^` operator) or the logical_xor function instead.\n",
        "  return -res\n",
        "/Users/sebastian/miniconda3/envs/py27/lib/python2.7/site-packages/pandas/core/common.py:276: DeprecationWarning: numpy boolean negative (the unary `-` operator) is deprecated, use the bitwise_xor (the `^` operator) or the logical_xor function instead.\n",
        "  return -res\n",
        "/Users/sebastian/miniconda3/envs/py27/lib/python2.7/site-packages/pandas/core/common.py:276: DeprecationWarning: numpy boolean negative (the unary `-` operator) is deprecated, use the bitwise_xor (the `^` operator) or the logical_xor function instead.\n",
        "  return -res\n",
        "/Users/sebastian/miniconda3/envs/py27/lib/python2.7/site-packages/pandas/core/common.py:276: DeprecationWarning: numpy boolean negative (the unary `-` operator) is deprecated, use the bitwise_xor (the `^` operator) or the logical_xor function instead.\n",
        "  return -res\n"
       ]
      },
      {
       "html": [
        "<div style=\"max-height:1000px;max-width:1500px;overflow:auto;\">\n",
        "<table border=\"1\" class=\"dataframe\">\n",
        "  <thead>\n",
        "    <tr style=\"text-align: right;\">\n",
        "      <th></th>\n",
        "      <th>file</th>\n",
        "      <th>artist</th>\n",
        "      <th>title</th>\n",
        "      <th>lyrics</th>\n",
        "      <th>genre</th>\n",
        "      <th>mood</th>\n",
        "      <th>year</th>\n",
        "    </tr>\n",
        "  </thead>\n",
        "  <tbody>\n",
        "    <tr>\n",
        "      <th>0</th>\n",
        "      <td> TRAAAAW128F429D538.h5</td>\n",
        "      <td>        Casual</td>\n",
        "      <td>        I Didn't Mean To</td>\n",
        "      <td> Verse One:\\n\\nAlright I might\\nHave had a litt...</td>\n",
        "      <td> Hip Hop/Rap</td>\n",
        "      <td>   sad</td>\n",
        "      <td> 1994</td>\n",
        "    </tr>\n",
        "    <tr>\n",
        "      <th>1</th>\n",
        "      <td> TRAAAEF128F4273421.h5</td>\n",
        "      <td>      Adam Ant</td>\n",
        "      <td>         Something Girls</td>\n",
        "      <td> Adam Ant/Marco Pirroni\\nEvery girl is a someth...</td>\n",
        "      <td>        Rock</td>\n",
        "      <td> happy</td>\n",
        "      <td> 1982</td>\n",
        "    </tr>\n",
        "    <tr>\n",
        "      <th>2</th>\n",
        "      <td> TRAAAFD128F92F423A.h5</td>\n",
        "      <td>           Gob</td>\n",
        "      <td>          Face the Ashes</td>\n",
        "      <td> I've just erased it's been a while, I've got a...</td>\n",
        "      <td>        Rock</td>\n",
        "      <td>   sad</td>\n",
        "      <td> 2007</td>\n",
        "    </tr>\n",
        "    <tr>\n",
        "      <th>3</th>\n",
        "      <td> TRAABJV128F1460C49.h5</td>\n",
        "      <td> Lionel Richie</td>\n",
        "      <td> Tonight Will Be Alright</td>\n",
        "      <td> Little darling \\nWhere you've been so long \\nI...</td>\n",
        "      <td>         R&amp;B</td>\n",
        "      <td> happy</td>\n",
        "      <td> 1986</td>\n",
        "    </tr>\n",
        "    <tr>\n",
        "      <th>4</th>\n",
        "      <td> TRAABLR128F423B7E3.h5</td>\n",
        "      <td>    Blue Rodeo</td>\n",
        "      <td>                Floating</td>\n",
        "      <td> Lead Vocal by Greg\\n\\nWell, these late night c...</td>\n",
        "      <td>        Rock</td>\n",
        "      <td>   sad</td>\n",
        "      <td> 1987</td>\n",
        "    </tr>\n",
        "  </tbody>\n",
        "</table>\n",
        "<p>5 rows \u00d7 7 columns</p>\n",
        "</div>"
       ],
       "metadata": {},
       "output_type": "pyout",
       "prompt_number": 14,
       "text": [
        "                    file         artist                    title  \\\n",
        "0  TRAAAAW128F429D538.h5         Casual         I Didn't Mean To   \n",
        "1  TRAAAEF128F4273421.h5       Adam Ant          Something Girls   \n",
        "2  TRAAAFD128F92F423A.h5            Gob           Face the Ashes   \n",
        "3  TRAABJV128F1460C49.h5  Lionel Richie  Tonight Will Be Alright   \n",
        "4  TRAABLR128F423B7E3.h5     Blue Rodeo                 Floating   \n",
        "\n",
        "                                              lyrics        genre   mood  year  \n",
        "0  Verse One:\\n\\nAlright I might\\nHave had a litt...  Hip Hop/Rap    sad  1994  \n",
        "1  Adam Ant/Marco Pirroni\\nEvery girl is a someth...         Rock  happy  1982  \n",
        "2  I've just erased it's been a while, I've got a...         Rock    sad  2007  \n",
        "3  Little darling \\nWhere you've been so long \\nI...          R&B  happy  1986  \n",
        "4  Lead Vocal by Greg\\n\\nWell, these late night c...         Rock    sad  1987  \n",
        "\n",
        "[5 rows x 7 columns]"
       ]
      }
     ],
     "prompt_number": 14
    },
    {
     "cell_type": "markdown",
     "metadata": {},
     "source": [
      "<br>\n",
      "<br>"
     ]
    },
    {
     "cell_type": "heading",
     "level": 3,
     "metadata": {},
     "source": [
      "Label Encoder"
     ]
    },
    {
     "cell_type": "markdown",
     "metadata": {},
     "source": [
      "[[back to top](#Sections)]"
     ]
    },
    {
     "cell_type": "code",
     "collapsed": false,
     "input": [
      "from sklearn.preprocessing import LabelEncoder\n",
      "import pickle\n",
      "import numpy as np\n",
      "\n",
      "X_train = df['lyrics'].values \n",
      "\n",
      "y_train = df['mood'].values\n",
      "\n",
      "print('before: %s ...' %y_train[:5])\n",
      "\n",
      "le = LabelEncoder()\n",
      "le.fit(y_train)\n",
      "y_train = le.transform(y_train)\n",
      "\n",
      "print('after: %s ...' %y_train[:5])"
     ],
     "language": "python",
     "metadata": {},
     "outputs": [
      {
       "output_type": "stream",
       "stream": "stdout",
       "text": [
        "before: ['sad' 'happy' 'sad' 'happy' 'sad'] ...\n",
        "after: [1 0 1 0 1] ...\n"
       ]
      }
     ],
     "prompt_number": 15
    },
    {
     "cell_type": "code",
     "collapsed": false,
     "input": [
      "# Save object to disk\n",
      "\n",
      "import pickle\n",
      "\n",
      "pickle_out = open('./lyrics_label_encoder_py27.pkl', 'wb')\n",
      "pickle.dump(le, pickle_out)\n",
      "pickle_out.close()"
     ],
     "language": "python",
     "metadata": {},
     "outputs": [],
     "prompt_number": 16
    },
    {
     "cell_type": "markdown",
     "metadata": {},
     "source": [
      "<br>\n",
      "<br>"
     ]
    },
    {
     "cell_type": "heading",
     "level": 2,
     "metadata": {},
     "source": [
      "Feature extraction: Word counts and Vectorizers"
     ]
    },
    {
     "cell_type": "markdown",
     "metadata": {},
     "source": [
      "[[back to top](#Sections)]"
     ]
    },
    {
     "cell_type": "markdown",
     "metadata": {},
     "source": [
      "<br>\n",
      "<br>"
     ]
    },
    {
     "cell_type": "heading",
     "level": 3,
     "metadata": {},
     "source": [
      "Porter Stemmer"
     ]
    },
    {
     "cell_type": "markdown",
     "metadata": {},
     "source": [
      "[[back to top](#Sections)]"
     ]
    },
    {
     "cell_type": "code",
     "collapsed": false,
     "input": [
      "# Porter Stemmer\n",
      "\n",
      "import nltk\n",
      "import string\n",
      "import re\n",
      "\n",
      "porter_stemmer = nltk.stem.porter.PorterStemmer()\n",
      "\n",
      "def porter_tokenizer(text, stemmer=porter_stemmer):\n",
      "    \"\"\"\n",
      "    A Porter-Stemmer-Tokenizer hybrid to splits sentences into words (tokens) \n",
      "    and applies the porter stemming algorithm to each of the obtained token. \n",
      "    Tokens that are only consisting of punctuation characters are removed as well.\n",
      "    Only tokens that consist of more than one letter are being kept.\n",
      "    \n",
      "    Parameters\n",
      "    ----------\n",
      "        \n",
      "    text : `str`. \n",
      "      A sentence that is to split into words.\n",
      "        \n",
      "    Returns\n",
      "    ----------\n",
      "    \n",
      "    no_punct : `str`. \n",
      "      A list of tokens after stemming and removing Sentence punctuation patterns.\n",
      "    \n",
      "    \"\"\"\n",
      "    lower_txt = text.lower()\n",
      "    tokens = nltk.wordpunct_tokenize(lower_txt)\n",
      "    stems = [porter_stemmer.stem(t) for t in tokens]\n",
      "    no_punct = [s for s in stems if re.match('^[a-zA-Z]+$', s) is not None]\n",
      "    return no_punct\n"
     ],
     "language": "python",
     "metadata": {},
     "outputs": [],
     "prompt_number": 17
    },
    {
     "cell_type": "heading",
     "level": 4,
     "metadata": {},
     "source": [
      "Test"
     ]
    },
    {
     "cell_type": "code",
     "collapsed": false,
     "input": [
      "porter_tokenizer(\"Don't !!! --- want swimming. \")"
     ],
     "language": "python",
     "metadata": {},
     "outputs": [
      {
       "metadata": {},
       "output_type": "pyout",
       "prompt_number": 18,
       "text": [
        "[u'don', u't', u'want', u'swim']"
       ]
      }
     ],
     "prompt_number": 18
    },
    {
     "cell_type": "markdown",
     "metadata": {},
     "source": [
      "<br>\n",
      "<br>"
     ]
    },
    {
     "cell_type": "heading",
     "level": 3,
     "metadata": {},
     "source": [
      "Stop word list"
     ]
    },
    {
     "cell_type": "markdown",
     "metadata": {},
     "source": [
      "[[back to top](#Sections)]"
     ]
    },
    {
     "cell_type": "code",
     "collapsed": false,
     "input": [
      "# Commented out to prevent overwriting files:\n",
      "#\n",
      "# stp = nltk.corpus.stopwords.words('english')\n",
      "# with open('./stopwords_eng.txt', 'w') as outfile:\n",
      "#    outfile.write('\\n'.join(stp))\n",
      "    \n",
      "    \n",
      "with open('./stopwords_eng.txt', 'r') as infile:\n",
      "    stop_words = infile.read().splitlines()\n",
      "print('stop words %s ...' %stop_words[:5])"
     ],
     "language": "python",
     "metadata": {},
     "outputs": [
      {
       "output_type": "stream",
       "stream": "stdout",
       "text": [
        "stop words ['i', 'me', 'my', 'myself', 'we'] ...\n"
       ]
      }
     ],
     "prompt_number": 19
    },
    {
     "cell_type": "markdown",
     "metadata": {},
     "source": [
      "<br>\n",
      "<br>"
     ]
    },
    {
     "cell_type": "heading",
     "level": 3,
     "metadata": {},
     "source": [
      "Count Vectorizer"
     ]
    },
    {
     "cell_type": "markdown",
     "metadata": {},
     "source": [
      "[[back to top](#Sections)]"
     ]
    },
    {
     "cell_type": "code",
     "collapsed": false,
     "input": [
      "# Count Vectorizer\n",
      "\n",
      "from sklearn.feature_extraction.text import CountVectorizer\n",
      "\n",
      "vec = CountVectorizer(\n",
      "            encoding='utf-8',\n",
      "            decode_error='replace',\n",
      "            strip_accents='unicode',\n",
      "            analyzer='word',\n",
      "            binary=False,\n",
      "            stop_words=stop_words,\n",
      "            tokenizer=porter_tokenizer,\n",
      "            ngram_range=(1,1)\n",
      "    )\n"
     ],
     "language": "python",
     "metadata": {},
     "outputs": [],
     "prompt_number": 20
    },
    {
     "cell_type": "heading",
     "level": 4,
     "metadata": {},
     "source": [
      "Test 1"
     ]
    },
    {
     "cell_type": "code",
     "collapsed": false,
     "input": [
      "vocab = [\"123 1 The\\n swimmer likes swimming so he swims. Don't didn`t\"]\n",
      "\n",
      "vec = vec.fit(vocab)\n",
      "\n",
      "sentence1 = vec.transform([u'The swimmer likes swimming.'])\n",
      "sentence2 = vec.transform(['The\\nswimmer \\nswims.'])\n",
      "\n",
      "\n",
      "print('TEST:')\n",
      "print('Vocabulary: %s' %vec.get_feature_names())\n",
      "print('Sentence 1: %s' %sentence1.toarray())\n",
      "print('Sentence 2: %s' %sentence2.toarray())"
     ],
     "language": "python",
     "metadata": {},
     "outputs": [
      {
       "output_type": "stream",
       "stream": "stdout",
       "text": [
        "TEST:\n",
        "Vocabulary: [u'didn', u'like', u'swim', u'swimmer']\n",
        "Sentence 1: [[0 1 1 1]]\n",
        "Sentence 2: [[0 0 1 1]]\n"
       ]
      },
      {
       "output_type": "stream",
       "stream": "stderr",
       "text": [
        "/Users/sebastian/miniconda3/envs/py27/lib/python2.7/site-packages/numpy/core/fromnumeric.py:2499: VisibleDeprecationWarning: `rank` is deprecated; use the `ndim` attribute or function instead. To find the rank of a matrix see `numpy.linalg.matrix_rank`.\n",
        "  VisibleDeprecationWarning)\n"
       ]
      }
     ],
     "prompt_number": 21
    },
    {
     "cell_type": "heading",
     "level": 4,
     "metadata": {},
     "source": [
      "Fitting the lyrics"
     ]
    },
    {
     "cell_type": "code",
     "collapsed": false,
     "input": [
      "vec = vec.fit(X_train.ravel())"
     ],
     "language": "python",
     "metadata": {},
     "outputs": [],
     "prompt_number": 22
    },
    {
     "cell_type": "code",
     "collapsed": false,
     "input": [
      "print('Vocabulary size: %s' %len(vec.get_feature_names()))"
     ],
     "language": "python",
     "metadata": {},
     "outputs": [
      {
       "output_type": "stream",
       "stream": "stdout",
       "text": [
        "Vocabulary size: 8550\n"
       ]
      }
     ],
     "prompt_number": 23
    },
    {
     "cell_type": "heading",
     "level": 4,
     "metadata": {},
     "source": [
      "Test 2 (N-grams = 2)"
     ]
    },
    {
     "cell_type": "code",
     "collapsed": false,
     "input": [
      "vec = CountVectorizer(\n",
      "            encoding='utf-8',\n",
      "            decode_error='replace',\n",
      "            strip_accents='unicode',\n",
      "            analyzer='word',\n",
      "            binary=False,\n",
      "            stop_words=stop_words,\n",
      "            tokenizer=porter_tokenizer,\n",
      "            ngram_range=(2,2)\n",
      "    )\n",
      "\n",
      "vocab = [\"123 1 The\\n swimmer likes swimming so he swims. Don't didn`t\"]\n",
      "\n",
      "vec = vec.fit(vocab)\n",
      "\n",
      "sentence1 = vec.transform([u'The swimmer likes swimming.'])\n",
      "sentence2 = vec.transform(['The\\nswimmer \\nswims.'])\n",
      "\n",
      "\n",
      "print('TEST:')\n",
      "print('Vocabulary: %s' %vec.get_feature_names())\n",
      "print('Sentence 1: %s' %sentence1.toarray())\n",
      "print('Sentence 2: %s' %sentence2.toarray())"
     ],
     "language": "python",
     "metadata": {},
     "outputs": [
      {
       "output_type": "stream",
       "stream": "stdout",
       "text": [
        "TEST:\n",
        "Vocabulary: [u'like swim', u'swim didn', u'swim swim', u'swimmer like']\n",
        "Sentence 1: [[1 0 0 1]]\n",
        "Sentence 2: [[0 0 0 0]]\n"
       ]
      }
     ],
     "prompt_number": 24
    },
    {
     "cell_type": "markdown",
     "metadata": {},
     "source": [
      "<br>\n",
      "<br>"
     ]
    },
    {
     "cell_type": "heading",
     "level": 3,
     "metadata": {},
     "source": [
      "Tfidf Vectorizer"
     ]
    },
    {
     "cell_type": "markdown",
     "metadata": {},
     "source": [
      "[[back to top](#Sections)]"
     ]
    },
    {
     "cell_type": "code",
     "collapsed": false,
     "input": [
      "from sklearn.feature_extraction.text import TfidfVectorizer\n",
      "\n",
      "tfidf = TfidfVectorizer(\n",
      "            encoding='utf-8',\n",
      "            decode_error='replace',\n",
      "            strip_accents='unicode',\n",
      "            analyzer='word',\n",
      "            binary=False,\n",
      "            stop_words=stop_words,\n",
      "            tokenizer=porter_tokenizer\n",
      "    )"
     ],
     "language": "python",
     "metadata": {},
     "outputs": [],
     "prompt_number": 25
    },
    {
     "cell_type": "heading",
     "level": 4,
     "metadata": {},
     "source": [
      "Test"
     ]
    },
    {
     "cell_type": "code",
     "collapsed": false,
     "input": [
      "vocab = [\"123 1 The\\n swimmer likes swimming so he swims. Don't didn`t\"]\n",
      "\n",
      "tfidf = tfidf.fit(vocab)\n",
      "\n",
      "sentence1 = tfidf.transform([u'The swimmer likes swimming.'])\n",
      "sentence2 = tfidf.transform(['The\\nswimmer \\nswims.'])\n",
      "\n",
      "\n",
      "print('TEST:')\n",
      "print('Vocabulary: %s' %tfidf.get_feature_names())\n",
      "print('Sentence 1: %s' %sentence1.toarray())\n",
      "print('Sentence 2: %s' %sentence2.toarray())"
     ],
     "language": "python",
     "metadata": {},
     "outputs": [
      {
       "output_type": "stream",
       "stream": "stdout",
       "text": [
        "TEST:\n",
        "Vocabulary: [u'didn', u'like', u'swim', u'swimmer']\n",
        "Sentence 1: [[ 0.          0.57735027  0.57735027  0.57735027]]\n",
        "Sentence 2: [[ 0.          0.          0.70710678  0.70710678]]\n"
       ]
      }
     ],
     "prompt_number": 13
    },
    {
     "cell_type": "heading",
     "level": 4,
     "metadata": {},
     "source": [
      "Fitting the lyrics"
     ]
    },
    {
     "cell_type": "code",
     "collapsed": false,
     "input": [
      "tfidf = tfidf.fit(X_train.ravel())\n",
      "\n",
      "print('Vocabulary size: %s' %len(tfidf.get_feature_names()))"
     ],
     "language": "python",
     "metadata": {},
     "outputs": [
      {
       "output_type": "stream",
       "stream": "stdout",
       "text": [
        "Vocabulary size: 8550\n"
       ]
      }
     ],
     "prompt_number": 14
    },
    {
     "cell_type": "markdown",
     "metadata": {},
     "source": [
      "<br>\n",
      "<br>"
     ]
    },
    {
     "cell_type": "heading",
     "level": 1,
     "metadata": {},
     "source": [
      "Model Selection"
     ]
    },
    {
     "cell_type": "markdown",
     "metadata": {},
     "source": [
      "[[back to top](#Sections)]"
     ]
    },
    {
     "cell_type": "markdown",
     "metadata": {},
     "source": [
      "<br>\n",
      "<br>"
     ]
    },
    {
     "cell_type": "heading",
     "level": 3,
     "metadata": {},
     "source": [
      "Grid search and hyperparameter tuning"
     ]
    },
    {
     "cell_type": "markdown",
     "metadata": {},
     "source": [
      "[[back to top](#Sections)]"
     ]
    },
    {
     "cell_type": "markdown",
     "metadata": {},
     "source": [
      "<br>\n",
      "<br>"
     ]
    },
    {
     "cell_type": "heading",
     "level": 4,
     "metadata": {},
     "source": [
      "Models: Multivariate Bernoulli and Multinomial naive Bayes"
     ]
    },
    {
     "cell_type": "code",
     "collapsed": false,
     "input": [
      "from sklearn.naive_bayes import MultinomialNB\n",
      "from sklearn.naive_bayes import BernoulliNB\n",
      "from sklearn.pipeline import Pipeline"
     ],
     "language": "python",
     "metadata": {},
     "outputs": [],
     "prompt_number": 8
    },
    {
     "cell_type": "heading",
     "level": 4,
     "metadata": {},
     "source": [
      "Performance metric: F1-score"
     ]
    },
    {
     "cell_type": "code",
     "collapsed": false,
     "input": [
      "# Custom scorer methods to account for positive-negative class labels\n",
      "\n",
      "from sklearn import metrics\n",
      "\n",
      "# `pos_label` for positive class, since we have sad=1, happy=0\n",
      "\n",
      "f1_scorer = metrics.make_scorer(metrics.f1_score, greater_is_better=True, pos_label=0)"
     ],
     "language": "python",
     "metadata": {},
     "outputs": [],
     "prompt_number": 9
    },
    {
     "cell_type": "markdown",
     "metadata": {},
     "source": [
      "<br>\n",
      "<br>"
     ]
    },
    {
     "cell_type": "heading",
     "level": 4,
     "metadata": {},
     "source": [
      "Grid Search"
     ]
    },
    {
     "cell_type": "markdown",
     "metadata": {},
     "source": [
      "[[back to top](#Sections)]"
     ]
    },
    {
     "cell_type": "code",
     "collapsed": false,
     "input": [
      "from sklearn.grid_search import GridSearchCV\n",
      "\n",
      "pipeline_1 = Pipeline([\n",
      "    ('vect', CountVectorizer()),\n",
      "    ('clf', BernoulliNB())\n",
      "])\n",
      "\n",
      "parameters_1 = dict(\n",
      "    vect__binary=[True],\n",
      "    vect__stop_words=[stop_words, None],\n",
      "    vect__tokenizer=[porter_tokenizer, None],\n",
      "    vect__ngram_range=[(1,1), (2,2), (3,3)],\n",
      ")\n",
      "\n",
      "grid_search_1 = GridSearchCV(pipeline_1, \n",
      "                           parameters_1, \n",
      "                           n_jobs=1, \n",
      "                           verbose=1,\n",
      "                           scoring=f1_scorer,\n",
      "                           cv=10\n",
      "                )\n",
      "\n",
      "\n",
      "print(\"Performing grid search...\")\n",
      "print(\"pipeline:\", [name for name, _ in pipeline_1.steps])\n",
      "print(\"parameters:\")\n",
      "pprint(parameters_1, depth=2)\n",
      "grid_search_1.fit(X_train, y_train)\n",
      "print(\"Best score: %0.3f\" % grid_search_1.best_score_)\n",
      "print(\"Best parameters set:\")\n",
      "best_parameters_1 = grid_search_1.best_estimator_.get_params()\n",
      "for param_name in sorted(parameters_1.keys()):\n",
      "    print(\"\\t%s: %r\" % (param_name, best_parameters_1[param_name]))"
     ],
     "language": "python",
     "metadata": {},
     "outputs": [
      {
       "ename": "NameError",
       "evalue": "name 'CountVectorizer' is not defined",
       "output_type": "pyerr",
       "traceback": [
        "\u001b[0;31m---------------------------------------------------------------------------\u001b[0m\n\u001b[0;31mNameError\u001b[0m                                 Traceback (most recent call last)",
        "\u001b[0;32m<ipython-input-10-0c801759d6e0>\u001b[0m in \u001b[0;36m<module>\u001b[0;34m()\u001b[0m\n\u001b[1;32m      2\u001b[0m \u001b[0;34m\u001b[0m\u001b[0m\n\u001b[1;32m      3\u001b[0m pipeline_1 = Pipeline([\n\u001b[0;32m----> 4\u001b[0;31m     \u001b[0;34m(\u001b[0m\u001b[0;34m'vect'\u001b[0m\u001b[0;34m,\u001b[0m \u001b[0mCountVectorizer\u001b[0m\u001b[0;34m(\u001b[0m\u001b[0;34m)\u001b[0m\u001b[0;34m)\u001b[0m\u001b[0;34m,\u001b[0m\u001b[0;34m\u001b[0m\u001b[0m\n\u001b[0m\u001b[1;32m      5\u001b[0m     \u001b[0;34m(\u001b[0m\u001b[0;34m'clf'\u001b[0m\u001b[0;34m,\u001b[0m \u001b[0mBernoulliNB\u001b[0m\u001b[0;34m(\u001b[0m\u001b[0;34m)\u001b[0m\u001b[0;34m)\u001b[0m\u001b[0;34m\u001b[0m\u001b[0m\n\u001b[1;32m      6\u001b[0m ])\n",
        "\u001b[0;31mNameError\u001b[0m: name 'CountVectorizer' is not defined"
       ]
      }
     ],
     "prompt_number": 10
    },
    {
     "cell_type": "code",
     "collapsed": false,
     "input": [
      "from sklearn.grid_search import GridSearchCV\n",
      "\n",
      "pipeline_3 = Pipeline([\n",
      "    ('vect', CountVectorizer()),\n",
      "    ('clf', MultinomialNB())\n",
      "])\n",
      "\n",
      "parameters_3 = dict(\n",
      "    vect__binary=[False],\n",
      "    vect__stop_words=[stop_words, None],\n",
      "    vect__tokenizer=[porter_tokenizer, None],\n",
      "    vect__ngram_range=[(1,1), (2,2), (3,3)],\n",
      ")\n",
      "\n",
      "grid_search_3 = GridSearchCV(pipeline_3, \n",
      "                           parameters_3, \n",
      "                           n_jobs=1, \n",
      "                           verbose=1,\n",
      "                           scoring=f1_scorer,\n",
      "                           cv=10\n",
      "                )\n",
      "\n",
      "\n",
      "print(\"Performing grid search...\")\n",
      "print(\"pipeline:\", [name for name, _ in pipeline_3.steps])\n",
      "print(\"parameters:\")\n",
      "pprint(parameters_3, depth=2)\n",
      "grid_search_3.fit(X_train, y_train)\n",
      "print(\"Best score: %0.3f\" % grid_search_3.best_score_)\n",
      "print(\"Best parameters set:\")\n",
      "best_parameters_3 = grid_search_3.best_estimator_.get_params()\n",
      "for param_name in sorted(parameters_3.keys()):\n",
      "    print(\"\\t%s: %r\" % (param_name, best_parameters_3[param_name]))"
     ],
     "language": "python",
     "metadata": {},
     "outputs": [
      {
       "ename": "NameError",
       "evalue": "name 'CountVectorizer' is not defined",
       "output_type": "pyerr",
       "traceback": [
        "\u001b[0;31m---------------------------------------------------------------------------\u001b[0m\n\u001b[0;31mNameError\u001b[0m                                 Traceback (most recent call last)",
        "\u001b[0;32m<ipython-input-11-7407ab3c0a66>\u001b[0m in \u001b[0;36m<module>\u001b[0;34m()\u001b[0m\n\u001b[1;32m      2\u001b[0m \u001b[0;34m\u001b[0m\u001b[0m\n\u001b[1;32m      3\u001b[0m pipeline_3 = Pipeline([\n\u001b[0;32m----> 4\u001b[0;31m     \u001b[0;34m(\u001b[0m\u001b[0;34m'vect'\u001b[0m\u001b[0;34m,\u001b[0m \u001b[0mCountVectorizer\u001b[0m\u001b[0;34m(\u001b[0m\u001b[0;34m)\u001b[0m\u001b[0;34m)\u001b[0m\u001b[0;34m,\u001b[0m\u001b[0;34m\u001b[0m\u001b[0m\n\u001b[0m\u001b[1;32m      5\u001b[0m     \u001b[0;34m(\u001b[0m\u001b[0;34m'clf'\u001b[0m\u001b[0;34m,\u001b[0m \u001b[0mMultinomialNB\u001b[0m\u001b[0;34m(\u001b[0m\u001b[0;34m)\u001b[0m\u001b[0;34m)\u001b[0m\u001b[0;34m\u001b[0m\u001b[0m\n\u001b[1;32m      6\u001b[0m ])\n",
        "\u001b[0;31mNameError\u001b[0m: name 'CountVectorizer' is not defined"
       ]
      }
     ],
     "prompt_number": 11
    },
    {
     "cell_type": "code",
     "collapsed": false,
     "input": [
      "from sklearn.grid_search import GridSearchCV\n",
      "\n",
      "pipeline_4 = Pipeline([\n",
      "    ('vect', TfidfVectorizer()),\n",
      "    ('clf', MultinomialNB())\n",
      "])\n",
      "\n",
      "parameters_4 = dict(\n",
      "    vect__binary=[False],\n",
      "    vect__stop_words=[stop_words, None],\n",
      "    vect__tokenizer=[porter_tokenizer, None],\n",
      "    vect__ngram_range=[(1,1), (2,2), (3,3)],\n",
      ")\n",
      "\n",
      "grid_search_4 = GridSearchCV(pipeline_4, \n",
      "                           parameters_4, \n",
      "                           n_jobs=1, \n",
      "                           verbose=1,\n",
      "                           scoring=f1_scorer,\n",
      "                           cv=10\n",
      "                )\n",
      "\n",
      "\n",
      "print(\"Performing grid search...\")\n",
      "print(\"pipeline:\", [name for name, _ in pipeline_4.steps])\n",
      "print(\"parameters:\")\n",
      "pprint(parameters_4, depth=2)\n",
      "grid_search_4.fit(X_train, y_train)\n",
      "print(\"Best score: %0.3f\" % grid_search_4.best_score_)\n",
      "print(\"Best parameters set:\")\n",
      "best_parameters_4 = grid_search_4.best_estimator_.get_params()\n",
      "for param_name in sorted(parameters_4.keys()):\n",
      "    print(\"\\t%s: %r\" % (param_name, best_parameters_4[param_name]))"
     ],
     "language": "python",
     "metadata": {},
     "outputs": [
      {
       "ename": "NameError",
       "evalue": "name 'stop_words' is not defined",
       "output_type": "pyerr",
       "traceback": [
        "\u001b[0;31m---------------------------------------------------------------------------\u001b[0m\n\u001b[0;31mNameError\u001b[0m                                 Traceback (most recent call last)",
        "\u001b[0;32m<ipython-input-12-a073311239d6>\u001b[0m in \u001b[0;36m<module>\u001b[0;34m()\u001b[0m\n\u001b[1;32m      8\u001b[0m parameters_4 = dict(\n\u001b[1;32m      9\u001b[0m     \u001b[0mvect__binary\u001b[0m\u001b[0;34m=\u001b[0m\u001b[0;34m[\u001b[0m\u001b[0mFalse\u001b[0m\u001b[0;34m]\u001b[0m\u001b[0;34m,\u001b[0m\u001b[0;34m\u001b[0m\u001b[0m\n\u001b[0;32m---> 10\u001b[0;31m     \u001b[0mvect__stop_words\u001b[0m\u001b[0;34m=\u001b[0m\u001b[0;34m[\u001b[0m\u001b[0mstop_words\u001b[0m\u001b[0;34m,\u001b[0m \u001b[0mNone\u001b[0m\u001b[0;34m]\u001b[0m\u001b[0;34m,\u001b[0m\u001b[0;34m\u001b[0m\u001b[0m\n\u001b[0m\u001b[1;32m     11\u001b[0m     \u001b[0mvect__tokenizer\u001b[0m\u001b[0;34m=\u001b[0m\u001b[0;34m[\u001b[0m\u001b[0mporter_tokenizer\u001b[0m\u001b[0;34m,\u001b[0m \u001b[0mNone\u001b[0m\u001b[0;34m]\u001b[0m\u001b[0;34m,\u001b[0m\u001b[0;34m\u001b[0m\u001b[0m\n\u001b[1;32m     12\u001b[0m     \u001b[0mvect__ngram_range\u001b[0m\u001b[0;34m=\u001b[0m\u001b[0;34m[\u001b[0m\u001b[0;34m(\u001b[0m\u001b[0;36m1\u001b[0m\u001b[0;34m,\u001b[0m\u001b[0;36m1\u001b[0m\u001b[0;34m)\u001b[0m\u001b[0;34m,\u001b[0m \u001b[0;34m(\u001b[0m\u001b[0;36m2\u001b[0m\u001b[0;34m,\u001b[0m\u001b[0;36m2\u001b[0m\u001b[0;34m)\u001b[0m\u001b[0;34m,\u001b[0m \u001b[0;34m(\u001b[0m\u001b[0;36m3\u001b[0m\u001b[0;34m,\u001b[0m\u001b[0;36m3\u001b[0m\u001b[0;34m)\u001b[0m\u001b[0;34m]\u001b[0m\u001b[0;34m,\u001b[0m\u001b[0;34m\u001b[0m\u001b[0m\n",
        "\u001b[0;31mNameError\u001b[0m: name 'stop_words' is not defined"
       ]
      }
     ],
     "prompt_number": 12
    },
    {
     "cell_type": "markdown",
     "metadata": {},
     "source": [
      "<br>\n",
      "<br>"
     ]
    },
    {
     "cell_type": "heading",
     "level": 4,
     "metadata": {},
     "source": [
      "Grid Search ROC Curves"
     ]
    },
    {
     "cell_type": "markdown",
     "metadata": {},
     "source": [
      "[[back to top](#Sections)]"
     ]
    },
    {
     "cell_type": "code",
     "collapsed": false,
     "input": [
      "from sklearn.metrics import roc_curve, auc\n",
      "import seaborn as sns\n",
      "import matplotlib.pyplot as plt\n",
      "%matplotlib inline\n",
      "from sklearn.cross_validation import StratifiedKFold\n",
      "from scipy import interp\n",
      "\n",
      "sns.set()\n",
      "sns.set_style(\"whitegrid\")\n",
      "\n",
      "clf_1 = Pipeline([\n",
      "                  ('vect', CountVectorizer(\n",
      "                                           binary=True,\n",
      "                                           stop_words=stop_words,\n",
      "                                           tokenizer=porter_tokenizer,\n",
      "                                           ngram_range=(1,1),\n",
      "                                           )\n",
      "                 ),\n",
      "                 ('clf', BernoulliNB()),\n",
      "                 ])\n",
      "\n",
      "clf_2 = Pipeline([\n",
      "                  ('vect', CountVectorizer(\n",
      "                                           binary=False,\n",
      "                                           stop_words=stop_words,\n",
      "                                           tokenizer=porter_tokenizer,\n",
      "                                           ngram_range=(1,1),\n",
      "                                           )\n",
      "                 ),\n",
      "                 ('clf', MultinomialNB()),\n",
      "                 ])\n",
      "\n",
      "clf_3 = Pipeline([\n",
      "                  ('vect', TfidfVectorizer(\n",
      "                                           binary=False,\n",
      "                                           stop_words=stop_words,\n",
      "                                           tokenizer=porter_tokenizer,\n",
      "                                           ngram_range=(1,1),\n",
      "                                           )\n",
      "                 ),\n",
      "                 ('clf', MultinomialNB()),\n",
      "                 ])\n",
      "\n",
      "colors = ['#1947D1', '#CC3300', 'k']\n",
      "linestyles = ['-', '--', '-.']\n",
      "classifiers = [clf_1, clf_2, clf_3]\n",
      "labels = ['1: MV Bernoulli NB, stop words, porter stemmer, \\nuni-gram, df', \n",
      "          '2: Multinomial NB, stop words, porter stemmer, \\nuni-gram, tf',\n",
      "          '3: Multinomial NB, stop words, porter stemmer, \\nuni-gram, tf-idf',\n",
      "          ]\n",
      "\n",
      "for clf,col,ls,lab in zip(classifiers, colors, linestyles, labels):\n",
      "    \n",
      "    mean_tpr = 0.0\n",
      "    mean_fpr = np.linspace(0, 1, 100)\n",
      "    all_tpr = []\n",
      "    cv = StratifiedKFold(y_train, n_folds=10, random_state=123)\n",
      "\n",
      "    for i, (train, test) in enumerate(cv):\n",
      "        probas_ = clf.fit(X_train[train], y_train[train]).predict_proba(X_train[test])\n",
      "        # Compute ROC curve and area the curve\n",
      "        fpr, tpr, thresholds = roc_curve(y_train[test], probas_[:, 1])\n",
      "        mean_tpr += interp(mean_fpr, fpr, tpr)\n",
      "        mean_tpr[0] = 0.0\n",
      "        roc_auc = auc(fpr, tpr)\n",
      "\n",
      "    mean_tpr /= len(cv)\n",
      "    mean_tpr[-1] = 1.0\n",
      "    mean_auc = auc(mean_fpr, mean_tpr)\n",
      "    plt.plot(mean_fpr, \n",
      "             mean_tpr, \n",
      "             color=col, \n",
      "             linestyle=ls,\n",
      "             label='%s (ROC AUC = %0.2f)' % (lab, mean_auc), \n",
      "             lw=2\n",
      "    )\n",
      "\n",
      "plt.plot([0, 1], [0, 1], '--', color=(0.6, 0.6, 0.6), label='Random Guessing')    \n",
      "plt.xlim([-0.05, 1.05])\n",
      "plt.ylim([-0.05, 1.05])\n",
      "plt.xlabel('False Positive Rate')\n",
      "plt.ylabel('True Positive Rate')\n",
      "plt.legend(loc=\"lower right\")\n",
      "plt.savefig('./images/roc_gridsearch_1.eps', dpi=300)\n",
      "plt.show()\n",
      "\n"
     ],
     "language": "python",
     "metadata": {},
     "outputs": [
      {
       "metadata": {},
       "output_type": "display_data",
       "png": "[encoded data removed]",
       "text": [
        "<matplotlib.figure.Figure at 0x109b6a6d8>"
       ]
      }
     ],
     "prompt_number": 202
    },
    {
     "cell_type": "markdown",
     "metadata": {},
     "source": [
      "<br>\n",
      "<br>"
     ]
    },
    {
     "cell_type": "heading",
     "level": 4,
     "metadata": {},
     "source": [
      "Hyperparameter tuning 1 - max_features"
     ]
    },
    {
     "cell_type": "markdown",
     "metadata": {},
     "source": [
      "[[back to top](#Sections)]"
     ]
    },
    {
     "cell_type": "code",
     "collapsed": false,
     "input": [
      "from sklearn.metrics import roc_curve, auc\n",
      "import seaborn as sns\n",
      "import matplotlib.pyplot as plt\n",
      "%matplotlib inline\n",
      "from sklearn.cross_validation import StratifiedKFold\n",
      "from scipy import interp\n",
      "\n",
      "sns.set()\n",
      "sns.set_style(\"whitegrid\")\n",
      "\n",
      "\n",
      "colors = ['#1947D1', '#CC3300', 'k', '#339933']\n",
      "linestyles = ['-', '--', '-.', ':']\n",
      "params = [1000,3000,5000,None]\n",
      "labels = ['max features = 1000', \n",
      "          'max features = 3000',\n",
      "          'max features = 5000',\n",
      "          'max features = all (=8550)',\n",
      "          ]\n",
      "\n",
      "for param,col,ls,lab in zip(params, colors, linestyles, labels):\n",
      "\n",
      "    clf = Pipeline([\n",
      "                         ('vect', TfidfVectorizer(\n",
      "                                                  binary=False,\n",
      "                                                  stop_words=stop_words,\n",
      "                                                  tokenizer=porter_tokenizer,\n",
      "                                                  ngram_range=(1,1),\n",
      "                                                  max_features=param,\n",
      "                                                  )\n",
      "                          ),\n",
      "                         ('clf', MultinomialNB()),\n",
      "                        ])\n",
      "    \n",
      "    mean_tpr = 0.0\n",
      "    mean_fpr = np.linspace(0, 1, 100)\n",
      "    all_tpr = []\n",
      "    cv = StratifiedKFold(y_train, n_folds=10, random_state=123)\n",
      "\n",
      "    for i, (train, test) in enumerate(cv):\n",
      "        probas_ = clf.fit(X_train[train], y_train[train]).predict_proba(X_train[test])\n",
      "        # Compute ROC curve and area the curve\n",
      "        fpr, tpr, thresholds = roc_curve(y_train[test], probas_[:, 1])\n",
      "        mean_tpr += interp(mean_fpr, fpr, tpr)\n",
      "        mean_tpr[0] = 0.0\n",
      "        roc_auc = auc(fpr, tpr)\n",
      "\n",
      "    mean_tpr /= len(cv)\n",
      "    mean_tpr[-1] = 1.0\n",
      "    mean_auc = auc(mean_fpr, mean_tpr)\n",
      "    plt.plot(mean_fpr, \n",
      "             mean_tpr, \n",
      "             color=col, \n",
      "             linestyle=ls,\n",
      "             label='%s (ROC AUC = %0.2f)' % (lab, mean_auc), \n",
      "             lw=2\n",
      "    )\n",
      "\n",
      "plt.plot([0, 1], [0, 1], '--', color=(0.6, 0.6, 0.6), label='Random Guessing')    \n",
      "plt.xlim([-0.05, 1.05])\n",
      "plt.ylim([-0.05, 1.05])\n",
      "plt.xlabel('False Positive Rate')\n",
      "plt.ylabel('True Positive Rate')\n",
      "plt.title('Multinomial NB, stop words, porter stemmer, uni-gram, tf-idf')\n",
      "plt.legend(loc=\"lower right\")\n",
      "plt.savefig('./images/roc_maxfeatures.eps', dpi=300)\n",
      "plt.show()\n"
     ],
     "language": "python",
     "metadata": {},
     "outputs": [
      {
       "metadata": {},
       "output_type": "display_data",
       "png": "[encoded data removed]",
       "text": [
        "<matplotlib.figure.Figure at 0x109c49da0>"
       ]
      }
     ],
     "prompt_number": 23
    },
    {
     "cell_type": "markdown",
     "metadata": {},
     "source": [
      "<br>\n",
      "<br>"
     ]
    },
    {
     "cell_type": "heading",
     "level": 4,
     "metadata": {},
     "source": [
      "Hyperparameter tuning 2 - min_df"
     ]
    },
    {
     "cell_type": "markdown",
     "metadata": {},
     "source": [
      "[[back to top](#Sections)]"
     ]
    },
    {
     "cell_type": "code",
     "collapsed": false,
     "input": [
      "from sklearn.metrics import roc_curve, auc\n",
      "import seaborn as sns\n",
      "import matplotlib.pyplot as plt\n",
      "%matplotlib inline\n",
      "from sklearn.cross_validation import StratifiedKFold\n",
      "from scipy import interp\n",
      "\n",
      "sns.set()\n",
      "sns.set_style(\"whitegrid\")\n",
      "\n",
      "\n",
      "colors = ['#1947D1', '#CC3300', 'k', '#339933']\n",
      "linestyles = ['-', '--', '-.', ':']\n",
      "params = [0.001, 0.01, 0.1, 1]\n",
      "labels = ['min. df = 0.001', \n",
      "          'min. df = 0.01',\n",
      "          'min. df = 0.1',\n",
      "          'no cutoff',\n",
      "          ]\n",
      "\n",
      "for param,col,ls,lab in zip(params, colors, linestyles, labels):\n",
      "\n",
      "    clf = Pipeline([\n",
      "                         ('vect', TfidfVectorizer(\n",
      "                                                  binary=False,\n",
      "                                                  stop_words=stop_words,\n",
      "                                                  tokenizer=porter_tokenizer,\n",
      "                                                  ngram_range=(1,1),\n",
      "                                                  min_df=param,\n",
      "                                                  )\n",
      "                          ),\n",
      "                         ('clf', MultinomialNB()),\n",
      "                        ])\n",
      "    \n",
      "    mean_tpr = 0.0\n",
      "    mean_fpr = np.linspace(0, 1, 100)\n",
      "    all_tpr = []\n",
      "    cv = StratifiedKFold(y_train, n_folds=10, random_state=123)\n",
      "\n",
      "    for i, (train, test) in enumerate(cv):\n",
      "        probas_ = clf.fit(X_train[train], y_train[train]).predict_proba(X_train[test])\n",
      "        # Compute ROC curve and area the curve\n",
      "        fpr, tpr, thresholds = roc_curve(y_train[test], probas_[:, 1])\n",
      "        mean_tpr += interp(mean_fpr, fpr, tpr)\n",
      "        mean_tpr[0] = 0.0\n",
      "        roc_auc = auc(fpr, tpr)\n",
      "\n",
      "    mean_tpr /= len(cv)\n",
      "    mean_tpr[-1] = 1.0\n",
      "    mean_auc = auc(mean_fpr, mean_tpr)\n",
      "    plt.plot(mean_fpr, \n",
      "             mean_tpr, \n",
      "             color=col, \n",
      "             linestyle=ls,\n",
      "             label='%s (ROC AUC = %0.2f)' % (lab, mean_auc), \n",
      "             lw=2\n",
      "    )\n",
      "\n",
      "plt.plot([0, 1], [0, 1], '--', color=(0.6, 0.6, 0.6), label='Random Guessing')    \n",
      "plt.xlim([-0.05, 1.05])\n",
      "plt.ylim([-0.05, 1.05])\n",
      "plt.xlabel('False Positive Rate')\n",
      "plt.ylabel('True Positive Rate')\n",
      "plt.legend(loc=\"lower right\")\n",
      "plt.title('Multinomial NB, stop words, porter stemmer, uni-gram, tf-idf')\n",
      "plt.savefig('./images/roc_mindf.eps', dpi=300)\n",
      "plt.show()\n",
      "\n"
     ],
     "language": "python",
     "metadata": {},
     "outputs": [
      {
       "metadata": {},
       "output_type": "display_data",
       "png": "[encoded data removed]",
       "text": [
        "<matplotlib.figure.Figure at 0x109ccf278>"
       ]
      }
     ],
     "prompt_number": 208
    },
    {
     "cell_type": "markdown",
     "metadata": {},
     "source": [
      "<br>\n",
      "<br>"
     ]
    },
    {
     "cell_type": "heading",
     "level": 4,
     "metadata": {},
     "source": [
      "Hyperparameter tuning 3 - alpha"
     ]
    },
    {
     "cell_type": "markdown",
     "metadata": {},
     "source": [
      "[[back to top](#Sections)]"
     ]
    },
    {
     "cell_type": "code",
     "collapsed": false,
     "input": [
      "from sklearn.metrics import roc_curve, auc\n",
      "import seaborn as sns\n",
      "import matplotlib.pyplot as plt\n",
      "%matplotlib inline\n",
      "from sklearn.cross_validation import StratifiedKFold\n",
      "from scipy import interp\n",
      "\n",
      "sns.set()\n",
      "sns.set_style(\"whitegrid\")\n",
      "\n",
      "\n",
      "colors = ['#1947D1', '#CC3300', 'k', '#339933']\n",
      "linestyles = ['-', '--', '-.', ':']\n",
      "params = [0.05, 0.1, 1.0, 2.0]\n",
      "labels = ['alpha = 0.05', \n",
      "          'alpha = 0.1',\n",
      "          'alpha = 1.0',\n",
      "          'alpha = 2.0',\n",
      "          ]\n",
      "\n",
      "for param,col,ls,lab in zip(params, colors, linestyles, labels):\n",
      "\n",
      "    clf = Pipeline([\n",
      "                         ('vect', TfidfVectorizer(\n",
      "                                                  binary=False,\n",
      "                                                  stop_words=stop_words,\n",
      "                                                  tokenizer=porter_tokenizer,\n",
      "                                                  ngram_range=(1,1),\n",
      "                                                  \n",
      "                                                  )\n",
      "                          ),\n",
      "                         ('clf', MultinomialNB(alpha=param)),\n",
      "                        ])\n",
      "    \n",
      "    mean_tpr = 0.0\n",
      "    mean_fpr = np.linspace(0, 1, 100)\n",
      "    all_tpr = []\n",
      "    cv = StratifiedKFold(y_train, n_folds=10, random_state=123)\n",
      "\n",
      "    for i, (train, test) in enumerate(cv):\n",
      "        probas_ = clf.fit(X_train[train], y_train[train]).predict_proba(X_train[test])\n",
      "        # Compute ROC curve and area the curve\n",
      "        fpr, tpr, thresholds = roc_curve(y_train[test], probas_[:, 1])\n",
      "        mean_tpr += interp(mean_fpr, fpr, tpr)\n",
      "        mean_tpr[0] = 0.0\n",
      "        roc_auc = auc(fpr, tpr)\n",
      "\n",
      "    mean_tpr /= len(cv)\n",
      "    mean_tpr[-1] = 1.0\n",
      "    mean_auc = auc(mean_fpr, mean_tpr)\n",
      "    plt.plot(mean_fpr, \n",
      "             mean_tpr, \n",
      "             color=col, \n",
      "             linestyle=ls,\n",
      "             label='%s (ROC AUC = %0.2f)' % (lab, mean_auc), \n",
      "             lw=2\n",
      "    )\n",
      "\n",
      "plt.plot([0, 1], [0, 1], '--', color=(0.6, 0.6, 0.6), label='Random Guessing')    \n",
      "plt.xlim([-0.05, 1.05])\n",
      "plt.ylim([-0.05, 1.05])\n",
      "plt.xlabel('False Positive Rate')\n",
      "plt.ylabel('True Positive Rate')\n",
      "plt.legend(loc=\"lower right\")\n",
      "plt.title('Multinomial NB, stop words, porter stemmer, uni-gram, tf-idf')\n",
      "plt.savefig('./images/roc_alpha.eps', dpi=300)\n",
      "plt.show()"
     ],
     "language": "python",
     "metadata": {},
     "outputs": [
      {
       "metadata": {},
       "output_type": "display_data",
       "png": "[encoded data removed]",
       "text": [
        "<matplotlib.figure.Figure at 0x105f149b0>"
       ]
      }
     ],
     "prompt_number": 210
    },
    {
     "cell_type": "markdown",
     "metadata": {},
     "source": [
      "<br>\n",
      "<br>"
     ]
    },
    {
     "cell_type": "heading",
     "level": 4,
     "metadata": {},
     "source": [
      "n-gram comparison"
     ]
    },
    {
     "cell_type": "markdown",
     "metadata": {},
     "source": [
      "[[back to top](#Sections)]"
     ]
    },
    {
     "cell_type": "code",
     "collapsed": false,
     "input": [
      "from sklearn.metrics import roc_curve, auc\n",
      "import seaborn as sns\n",
      "import matplotlib.pyplot as plt\n",
      "%matplotlib inline\n",
      "from sklearn.cross_validation import StratifiedKFold\n",
      "from scipy import interp\n",
      "\n",
      "sns.set()\n",
      "sns.set_style(\"whitegrid\")\n",
      "\n",
      "\n",
      "colors = ['#1947D1', '#CC3300', 'k', ]\n",
      "linestyles = ['-', '--', '-.',]\n",
      "params = [(1,1), (2,2), (3,3),]\n",
      "labels = ['1-gram', \n",
      "          '2-gram',\n",
      "          '3-gram',\n",
      "          ]\n",
      "\n",
      "for param,col,ls,lab in zip(params, colors, linestyles, labels):\n",
      "\n",
      "    clf = Pipeline([\n",
      "                         ('vect', TfidfVectorizer(\n",
      "                                                  binary=False,\n",
      "                                                  stop_words=stop_words,\n",
      "                                                  tokenizer=porter_tokenizer,\n",
      "                                                  ngram_range=param,\n",
      "                                                  \n",
      "                                                  )\n",
      "                          ),\n",
      "                         ('clf', MultinomialNB(alpha=1.0)),\n",
      "                        ])\n",
      "    \n",
      "    mean_tpr = 0.0\n",
      "    mean_fpr = np.linspace(0, 1, 100)\n",
      "    all_tpr = []\n",
      "    cv = StratifiedKFold(y_train, n_folds=10, random_state=123)\n",
      "\n",
      "    for i, (train, test) in enumerate(cv):\n",
      "        probas_ = clf.fit(X_train[train], y_train[train]).predict_proba(X_train[test])\n",
      "        # Compute ROC curve and area the curve\n",
      "        fpr, tpr, thresholds = roc_curve(y_train[test], probas_[:, 1])\n",
      "        mean_tpr += interp(mean_fpr, fpr, tpr)\n",
      "        mean_tpr[0] = 0.0\n",
      "        roc_auc = auc(fpr, tpr)\n",
      "\n",
      "    mean_tpr /= len(cv)\n",
      "    mean_tpr[-1] = 1.0\n",
      "    mean_auc = auc(mean_fpr, mean_tpr)\n",
      "    plt.plot(mean_fpr, \n",
      "             mean_tpr, \n",
      "             color=col, \n",
      "             linestyle=ls,\n",
      "             label='%s (ROC AUC = %0.2f)' % (lab, mean_auc), \n",
      "             lw=2\n",
      "    )\n",
      "\n",
      "plt.plot([0, 1], [0, 1], '--', color=(0.6, 0.6, 0.6), label='Random Guessing')    \n",
      "plt.xlim([-0.05, 1.05])\n",
      "plt.ylim([-0.05, 1.05])\n",
      "plt.xlabel('False Positive Rate')\n",
      "plt.ylabel('True Positive Rate')\n",
      "plt.legend(loc=\"lower right\")\n",
      "plt.title('Multinomial NB, stop words, porter stemmer, uni-gram, tf-idf')\n",
      "plt.savefig('./images/roc_ngrams.eps', dpi=300)\n",
      "plt.show()"
     ],
     "language": "python",
     "metadata": {},
     "outputs": [
      {
       "metadata": {},
       "output_type": "display_data",
       "png": "[encoded data removed]",
       "text": [
        "<matplotlib.figure.Figure at 0x105c19048>"
       ]
      }
     ],
     "prompt_number": 212
    },
    {
     "cell_type": "markdown",
     "metadata": {},
     "source": [
      "<br>\n",
      "<br>"
     ]
    },
    {
     "cell_type": "code",
     "collapsed": false,
     "input": [
      "from sklearn.metrics import roc_curve, auc\n",
      "import seaborn as sns\n",
      "import matplotlib.pyplot as plt\n",
      "%matplotlib inline\n",
      "from sklearn.cross_validation import StratifiedKFold\n",
      "from scipy import interp\n",
      "\n",
      "sns.set()\n",
      "sns.set_style(\"whitegrid\")\n",
      "\n",
      "classifier = Pipeline([\n",
      "               ('vect', TfidfVectorizer(\n",
      "                                           binary=False,\n",
      "                                           stop_words=stop_words,\n",
      "                                           tokenizer=porter_tokenizer,\n",
      "                                           ngram_range=(1,1),\n",
      "                                           )\n",
      "                 ),\n",
      "                 ('clf', MultinomialNB()),\n",
      "              ])\n",
      "\n",
      "\n",
      "cv = StratifiedKFold(y_train, n_folds=10, random_state=123)\n",
      "\n",
      "mean_tpr = 0.0\n",
      "mean_fpr = np.linspace(0, 1, 100)\n",
      "all_tpr = []\n",
      "\n",
      "for i, (train, test) in enumerate(cv):\n",
      "    probas_ = classifier.fit(X_train[train], y_train[train]).predict_proba(X_train[test])\n",
      "    # Compute ROC curve and area the curve\n",
      "    fpr, tpr, thresholds = roc_curve(y_train[test], probas_[:, 1])\n",
      "    mean_tpr += interp(mean_fpr, fpr, tpr)\n",
      "    mean_tpr[0] = 0.0\n",
      "    roc_auc = auc(fpr, tpr)\n",
      "    plt.plot(fpr, tpr, lw=1, label='ROC fold %d (area = %0.2f)' % (i+1, roc_auc))\n",
      "\n",
      "plt.plot([0, 1], [0, 1], '--', color=(0.6, 0.6, 0.6), label='Random Guessing')\n",
      "\n",
      "mean_tpr /= len(cv)\n",
      "mean_tpr[-1] = 1.0\n",
      "mean_auc = auc(mean_fpr, mean_tpr)\n",
      "plt.plot(mean_fpr, mean_tpr, 'k--',\n",
      "         label='Mean ROC (area = %0.2f)' % mean_auc, lw=2)\n",
      "\n",
      "plt.xlim([-0.05, 1.05])\n",
      "plt.ylim([-0.05, 1.05])\n",
      "plt.xlabel('False Positive Rate')\n",
      "plt.ylabel('True Positive Rate')\n",
      "plt.title('Receiver Operator Characteristic of the Lyrics Classifier')\n",
      "plt.legend(loc=\"lower right\")\n",
      "plt.savefig('./images/roc_final.eps', dpi=300)\n",
      "plt.show()"
     ],
     "language": "python",
     "metadata": {},
     "outputs": [
      {
       "metadata": {},
       "output_type": "display_data",
       "png": "[encoded data removed]",
       "text": [
        "<matplotlib.figure.Figure at 0x10a020be0>"
       ]
      }
     ],
     "prompt_number": 22
    },
    {
     "cell_type": "markdown",
     "metadata": {},
     "source": [
      "<br>\n",
      "<br>"
     ]
    },
    {
     "cell_type": "heading",
     "level": 1,
     "metadata": {},
     "source": [
      "Validation"
     ]
    },
    {
     "cell_type": "markdown",
     "metadata": {},
     "source": [
      "[[back to top](#Sections)]"
     ]
    },
    {
     "cell_type": "code",
     "collapsed": false,
     "input": [
      "final_clf = Pipeline([\n",
      "                ('vect', TfidfVectorizer(\n",
      "                                         binary=False,\n",
      "                                         stop_words=stop_words,\n",
      "                                         tokenizer=porter_tokenizer,\n",
      "                                         ngram_range=(1,1),\n",
      "                                         )\n",
      "                ),\n",
      "                ('clf', MultinomialNB(alpha=1.0)),\n",
      "               ])\n",
      "final_clf.fit(X_train, y_train)"
     ],
     "language": "python",
     "metadata": {},
     "outputs": [
      {
       "metadata": {},
       "output_type": "pyout",
       "prompt_number": 19,
       "text": [
        "Pipeline(steps=[('vect', TfidfVectorizer(analyzer=u'word', binary=False, charset=None,\n",
        "        charset_error=None, decode_error=u'strict',\n",
        "        dtype=<type 'numpy.int64'>, encoding=u'utf-8', input=u'content',\n",
        "        lowercase=True, max_df=1.0, max_features=None, min_df=1,\n",
        "        ngram_range=(1, 1), norm...rue,\n",
        "        vocabulary=None)), ('clf', MultinomialNB(alpha=1.0, class_prior=None, fit_prior=True))])"
       ]
      }
     ],
     "prompt_number": 19
    },
    {
     "cell_type": "markdown",
     "metadata": {},
     "source": [
      "<br>\n",
      "<br>"
     ]
    },
    {
     "cell_type": "heading",
     "level": 3,
     "metadata": {},
     "source": [
      "Confusion matrix"
     ]
    },
    {
     "cell_type": "markdown",
     "metadata": {},
     "source": [
      "[[back to top](#Sections)]"
     ]
    },
    {
     "cell_type": "code",
     "collapsed": false,
     "input": [
      "import matplotlib as mpl\n",
      "import numpy as np\n",
      "\n",
      "cm = metrics.confusion_matrix(y_train, final_clf.predict(X_train))\n",
      "\n",
      "np.set_printoptions(suppress=True)\n",
      "mpl.rc(\"figure\", figsize=(4, 2))\n",
      "\n",
      "hm = sns.heatmap(cm, \n",
      "            cbar=False,\n",
      "            annot=True, \n",
      "            square=True,\n",
      "            fmt='d',\n",
      "            yticklabels=['happy','sad'],\n",
      "            xticklabels=['happy','sad'],\n",
      "            cmap='Blues'\n",
      "            )\n",
      "plt.title('Confusion matrix - Training dataset')\n",
      "plt.ylabel('actual class')\n",
      "plt.xlabel('predicted class')\n",
      "plt.tight_layout()\n",
      "plt.savefig('./images/confmat_training.eps', dpi=300)\n",
      "plt.show()"
     ],
     "language": "python",
     "metadata": {},
     "outputs": [
      {
       "metadata": {},
       "output_type": "display_data",
       "png": "[encoded data removed]",
       "text": [
        "<matplotlib.figure.Figure at 0x108cb2860>"
       ]
      }
     ],
     "prompt_number": 30
    },
    {
     "cell_type": "code",
     "collapsed": false,
     "input": [
      "df = pd.read_csv('../../dataset/validation/valid_lyrics_200.csv')\n",
      "\n",
      "X_valid = df['lyrics'].values \n",
      "y_valid = df['mood'].values\n",
      "\n",
      "y_valid = le.transform(y_valid)"
     ],
     "language": "python",
     "metadata": {},
     "outputs": [],
     "prompt_number": 31
    },
    {
     "cell_type": "code",
     "collapsed": false,
     "input": [
      "cm = metrics.confusion_matrix(y_valid, final_clf.predict(X_valid))\n",
      "\n",
      "np.set_printoptions(suppress=True)\n",
      "mpl.rc(\"figure\", figsize=(4, 2))\n",
      "\n",
      "hm = sns.heatmap(cm, \n",
      "            cbar=False,\n",
      "            annot=True, \n",
      "            square=True,\n",
      "            fmt='d',\n",
      "            yticklabels=['happy','sad'],\n",
      "            xticklabels=['happy','sad'],\n",
      "            cmap='Blues'\n",
      "            )\n",
      "plt.title('Confusion matrix - Validation dataset')\n",
      "plt.ylabel('actual class')\n",
      "plt.xlabel('predicted class')\n",
      "plt.tight_layout()\n",
      "plt.savefig('./images/confmat_valid.eps', dpi=300)\n",
      "plt.show()"
     ],
     "language": "python",
     "metadata": {},
     "outputs": [
      {
       "metadata": {},
       "output_type": "display_data",
       "png": "[encoded data removed]",
       "text": [
        "<matplotlib.figure.Figure at 0x10a69b860>"
       ]
      }
     ],
     "prompt_number": 32
    },
    {
     "cell_type": "markdown",
     "metadata": {},
     "source": [
      "<br>\n",
      "<br>"
     ]
    },
    {
     "cell_type": "heading",
     "level": 3,
     "metadata": {},
     "source": [
      "ROC AUC, Accuracy, Precision, Recall, and F1-score"
     ]
    },
    {
     "cell_type": "markdown",
     "metadata": {},
     "source": [
      "[[back to top](#Sections)]"
     ]
    },
    {
     "cell_type": "code",
     "collapsed": false,
     "input": [
      "# Custom scorer methods to account for positive-negative class labels\n",
      "\n",
      "from sklearn import metrics\n",
      "\n",
      "# `pos_label` for positive class, since we have sad=1, happy=0\n",
      "\n",
      "acc_scorer = metrics.make_scorer(metrics.accuracy_score, greater_is_better=True)\n",
      "pre_scorer = metrics.make_scorer(metrics.precision_score, greater_is_better=True, pos_label=0)\n",
      "rec_scorer = metrics.make_scorer(metrics.recall_score, greater_is_better=True, pos_label=0)\n",
      "f1_scorer = metrics.make_scorer(metrics.f1_score, greater_is_better=True, pos_label=0)\n",
      "auc_scorer = metrics.make_scorer(metrics.roc_auc_score, greater_is_better=True)"
     ],
     "language": "python",
     "metadata": {},
     "outputs": [],
     "prompt_number": 263
    },
    {
     "cell_type": "code",
     "collapsed": false,
     "input": [
      "d = {'Data':['Training', 'Validation'],\n",
      "     'ACC (%)':[],\n",
      "     'PRE (%)':[],\n",
      "     'REC (%)':[],\n",
      "     'F1 (%)':[],\n",
      "     'ROC AUC (%)':[],\n",
      "}"
     ],
     "language": "python",
     "metadata": {},
     "outputs": [],
     "prompt_number": 307
    },
    {
     "cell_type": "code",
     "collapsed": false,
     "input": [
      "d['ACC (%)'].append(acc_scorer(estimator=final_clf, X=X_train, y_true=y_train))\n",
      "d['PRE (%)'].append(pre_scorer(estimator=final_clf, X=X_train, y_true=y_train))\n",
      "d['REC (%)'].append(rec_scorer(estimator=final_clf, X=X_train, y_true=y_train))\n",
      "d['F1 (%)'].append(f1_scorer(estimator=final_clf, X=X_train, y_true=y_train))\n",
      "d['ROC AUC (%)'].append(auc_scorer(estimator=final_clf, X=X_train, y_true=y_train))\n",
      "\n",
      "d['ACC (%)'].append(acc_scorer(estimator=final_clf, X=X_valid, y_true=y_valid))\n",
      "d['PRE (%)'].append(pre_scorer(estimator=final_clf, X=X_valid, y_true=y_valid))\n",
      "d['REC (%)'].append(rec_scorer(estimator=final_clf, X=X_valid, y_true=y_valid))\n",
      "d['F1 (%)'].append(f1_scorer(estimator=final_clf, X=X_valid, y_true=y_valid))\n",
      "d['ROC AUC (%)'].append(auc_scorer(estimator=final_clf, X=X_valid, y_true=y_valid))"
     ],
     "language": "python",
     "metadata": {},
     "outputs": [],
     "prompt_number": 308
    },
    {
     "cell_type": "code",
     "collapsed": false,
     "input": [
      "df_perform = pd.DataFrame(d)\n",
      "df_perform = df_perform[['ACC (%)', 'PRE (%)', 'REC (%)', 'F1 (%)', 'ROC AUC (%)']]\n",
      "df_perform.index=(['Training', 'Validation'])\n",
      "df_perform = df_perform*100\n",
      "df_perform = np.round(df_perform, decimals=2)\n",
      "df_perform"
     ],
     "language": "python",
     "metadata": {},
     "outputs": [
      {
       "html": [
        "<div style=\"max-height:1000px;max-width:1500px;overflow:auto;\">\n",
        "<table border=\"1\" class=\"dataframe\">\n",
        "  <thead>\n",
        "    <tr style=\"text-align: right;\">\n",
        "      <th></th>\n",
        "      <th>ACC (%)</th>\n",
        "      <th>PRE (%)</th>\n",
        "      <th>REC (%)</th>\n",
        "      <th>F1 (%)</th>\n",
        "      <th>ROC AUC (%)</th>\n",
        "    </tr>\n",
        "  </thead>\n",
        "  <tbody>\n",
        "    <tr>\n",
        "      <th>Training</th>\n",
        "      <td> 80.0</td>\n",
        "      <td> 99.60</td>\n",
        "      <td> 55.38</td>\n",
        "      <td> 71.18</td>\n",
        "      <td> 77.60</td>\n",
        "    </tr>\n",
        "    <tr>\n",
        "      <th>Validation</th>\n",
        "      <td> 54.5</td>\n",
        "      <td> 88.89</td>\n",
        "      <td> 15.24</td>\n",
        "      <td> 26.02</td>\n",
        "      <td> 56.57</td>\n",
        "    </tr>\n",
        "  </tbody>\n",
        "</table>\n",
        "</div>"
       ],
       "metadata": {},
       "output_type": "pyout",
       "prompt_number": 309,
       "text": [
        "            ACC (%)  PRE (%)  REC (%)  F1 (%)  ROC AUC (%)\n",
        "Training       80.0    99.60    55.38   71.18        77.60\n",
        "Validation     54.5    88.89    15.24   26.02        56.57"
       ]
      }
     ],
     "prompt_number": 309
    },
    {
     "cell_type": "code",
     "collapsed": false,
     "input": [
      "df_perform.to_csv('./clf_performance.csv', index_label=False)"
     ],
     "language": "python",
     "metadata": {},
     "outputs": [],
     "prompt_number": 310
    },
    {
     "cell_type": "markdown",
     "metadata": {},
     "source": [
      "<br>\n",
      "<br>"
     ]
    }
   ],
   "metadata": {}
  }
 ]
}