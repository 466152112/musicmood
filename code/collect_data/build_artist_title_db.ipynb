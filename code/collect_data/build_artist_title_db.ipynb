{
 "metadata": {
  "name": "",
  "signature": "sha256:7676880071523f8a24ff926bd01d0b1971161ac5df8b671b0d5fd51a6434e62e"
 },
 "nbformat": 3,
 "nbformat_minor": 0,
 "worksheets": [
  {
   "cells": [
    {
     "cell_type": "code",
     "collapsed": false,
     "input": [
      "%load_ext watermark\n",
      "%watermark -d -v -a 'Sebastian Raschka' "
     ],
     "language": "python",
     "metadata": {},
     "outputs": []
    },
    {
     "cell_type": "markdown",
     "metadata": {},
     "source": [
      "<br>\n",
      "<br>"
     ]
    },
    {
     "cell_type": "heading",
     "level": 3,
     "metadata": {},
     "source": [
      "Loading artists and titles from the Million Song Dataset into a Pandas DataFrame"
     ]
    },
    {
     "cell_type": "code",
     "collapsed": false,
     "input": [
      "import pandas as pd\n",
      "import re\n",
      "\n",
      "store = pd.HDFStore('/Users/sebastian/Desktop/msd_summary_file.h5')\n",
      "artists = pd.Series(store.root.metadata.songs.cols.artist_name)\n",
      "titles = pd.Series(store.root.metadata.songs.cols.title)\n",
      "store.close()\n",
      "\n",
      "df = pd.concat([artists, titles], axis=1)\n",
      "\n",
      "df.columns=['artist', 'title']\n",
      "\n",
      "df.loc[:, 'artist'] = df.loc[:, 'artist'].apply((lambda x: x.decode('utf-8')))\n",
      "df.loc[:, 'title'] = df.loc[:, 'title'].apply((lambda x: x.decode('utf-8')))\n",
      "\n",
      "# removes parentheses + content e.g., 'Bleed (Album Version)' -> 'Bleed'\n",
      "df.loc[:, 'title'] = df.loc[:, 'title'].apply(lambda x: re.sub(r'\\([^)]*\\)', '', x))\n",
      "df.loc[:, 'artist'] = df.loc[:, 'artist'].apply(lambda x: re.sub(r'\\([^)]*\\)', '', x))\n",
      "\n",
      "df.tail()"
     ],
     "language": "python",
     "metadata": {},
     "outputs": [
      {
       "html": [
        "<div style=\"max-height:1000px;max-width:1500px;overflow:auto;\">\n",
        "<table border=\"1\" class=\"dataframe\">\n",
        "  <thead>\n",
        "    <tr style=\"text-align: right;\">\n",
        "      <th></th>\n",
        "      <th>artist</th>\n",
        "      <th>title</th>\n",
        "    </tr>\n",
        "  </thead>\n",
        "  <tbody>\n",
        "    <tr>\n",
        "      <th>999995</th>\n",
        "      <td>   Kiko Navarro</td>\n",
        "      <td>                     O Samba Da Vida</td>\n",
        "    </tr>\n",
        "    <tr>\n",
        "      <th>999996</th>\n",
        "      <td>  Kuldeep Manak</td>\n",
        "      <td>                        Jago Chhadeo</td>\n",
        "    </tr>\n",
        "    <tr>\n",
        "      <th>999997</th>\n",
        "      <td> Gabriel Le Mar</td>\n",
        "      <td>                             Novemba</td>\n",
        "    </tr>\n",
        "    <tr>\n",
        "      <th>999998</th>\n",
        "      <td>          Elude</td>\n",
        "      <td>                             Faraday</td>\n",
        "    </tr>\n",
        "    <tr>\n",
        "      <th>999999</th>\n",
        "      <td>          Texta</td>\n",
        "      <td> Fernweh feat. Sektion Kuchik\u00e4schtli</td>\n",
        "    </tr>\n",
        "  </tbody>\n",
        "</table>\n",
        "</div>"
       ],
       "metadata": {},
       "output_type": "pyout",
       "prompt_number": 2,
       "text": [
        "                artist                                title\n",
        "999995    Kiko Navarro                      O Samba Da Vida\n",
        "999996   Kuldeep Manak                         Jago Chhadeo\n",
        "999997  Gabriel Le Mar                              Novemba\n",
        "999998           Elude                              Faraday\n",
        "999999           Texta  Fernweh feat. Sektion Kuchik\u00e4schtli"
       ]
      }
     ],
     "prompt_number": 2
    },
    {
     "cell_type": "markdown",
     "metadata": {},
     "source": [
      "<br>\n",
      "<br>"
     ]
    },
    {
     "cell_type": "heading",
     "level": 3,
     "metadata": {},
     "source": [
      "Save the artist-title table as SQLite3 for fututure analyses"
     ]
    },
    {
     "cell_type": "code",
     "collapsed": false,
     "input": [
      "import sqlite3\n",
      "\n",
      "conn = sqlite3.connect('../../dataset/million/artist_title.sqlite')\n",
      "df.to_sql(name='artist_title', con=conn)\n",
      "conn.commit()\n",
      "conn.close()"
     ],
     "language": "python",
     "metadata": {},
     "outputs": [],
     "prompt_number": 3
    },
    {
     "cell_type": "markdown",
     "metadata": {},
     "source": [
      "<br>\n",
      "<br>"
     ]
    },
    {
     "cell_type": "heading",
     "level": 3,
     "metadata": {},
     "source": [
      "Code to scrape lyrics from the web"
     ]
    },
    {
     "cell_type": "code",
     "collapsed": false,
     "input": [
      "import urllib, re\n",
      "import bs4\n",
      "          \n",
      "def songlyrics(artist, title):\n",
      "    artist = urllib.quote(artist.lower().replace(' ','-'))\n",
      "    title = urllib.quote(title.lower().replace(' ','-'))\n",
      "\n",
      "    try:\n",
      "        lyrics = urllib.urlopen('http://www.songlyrics.com/%s/%s-lyrics/' % (artist,title))\n",
      "    except:\n",
      "        return None\n",
      "    text = lyrics.read()\n",
      "    soup = bs4.BeautifulSoup(text)\n",
      "    lyrics = soup.findAll(attrs= {'id' : 'songLyricsDiv'})\n",
      "    if not lyrics:\n",
      "        return None\n",
      "    else:\n",
      "        if str(lyrics[0]).startswith(\"<p class='songLyricsV14 iComment-text' id='songLyricsDiv'></p>\"):\n",
      "\n",
      "            return None\n",
      "        try:\n",
      "            return re.sub('<[^<]+?>', '', ''.join(str(lyrics[0])))\n",
      "        except:\n",
      "            return None\n",
      "\n",
      "\n",
      "def lyricsmode(artist, title):\n",
      "    artist = urllib.quote(artist.lower().replace(' ','_'))\n",
      "    title = urllib.quote(title.lower().replace(' ','_'))\n",
      "\n",
      "    try:\n",
      "        url = 'http://www.lyricsmode.com/lyrics/%s/%s/%s.html' % (artist[0],artist, title)\n",
      "        lyrics = urllib.urlopen(url)\n",
      "    except:\n",
      "        return None \n",
      "    text = lyrics.read()\n",
      "    soup = bs4.BeautifulSoup(text)\n",
      "    #lyricsmode places the lyrics in a span with an id of \"lyrics\"\n",
      "    lyrics = soup.findAll(attrs= {'id' : 'lyrics_text'})\n",
      "    if not lyrics:\n",
      "        return None \n",
      "    try:\n",
      "        return re.sub('<[^<]+?>', '', ''.join(str(lyrics[0])))\n",
      "    except:\n",
      "        return None  \n",
      "\n",
      "def get_lyrics(artist, title):\n",
      "    lyr = songlyrics(artist, title)\n",
      "    if not lyr:\n",
      "        lyr = lyricsmode(artist, title)\n",
      "    return lyr\n",
      "\n",
      "\n",
      "test = get_lyrics('Bob Dylan','Blowing in the wind')\n",
      "print(test)\n",
      "test2 = get_lyrics('test','test')\n",
      "print(test2)"
     ],
     "language": "python",
     "metadata": {},
     "outputs": []
    },
    {
     "cell_type": "markdown",
     "metadata": {},
     "source": [
      "<br>\n",
      "<br>"
     ]
    },
    {
     "cell_type": "heading",
     "level": 3,
     "metadata": {},
     "source": [
      "Code to check if lyrics are English"
     ]
    },
    {
     "cell_type": "markdown",
     "metadata": {},
     "source": [
      "As a rule of thumb, I assume that every song that has less than 50% English words (i.e., words that are not in the English vocabulary) is non-English."
     ]
    },
    {
     "cell_type": "code",
     "collapsed": false,
     "input": [
      "import nltk\n",
      "\n",
      "def eng_ratio(text):\n",
      "    ''' Returns the ratio of non-English to English words from a text '''\n",
      "\n",
      "    english_vocab = set(w.lower() for w in nltk.corpus.words.words()) \n",
      "    text_vocab = set(w.lower() for w in text.split() if w.lower().isalpha()) \n",
      "    common = text_vocab.intersection(english_vocab)\n",
      "    try:\n",
      "        diff = len(common)/float(len(text_vocab))\n",
      "    except ZeroDivisionError:\n",
      "        diff = 0.0\n",
      "    return diff\n",
      "    \n",
      "text = 'This is a test fahrrad'\n",
      "\n",
      "print(eng_ratio(text))\n",
      "lyr = get_lyrics('Pharrell','Happy')\n",
      "print(eng_ratio(lyr))"
     ],
     "language": "python",
     "metadata": {},
     "outputs": []
    },
    {
     "cell_type": "markdown",
     "metadata": {},
     "source": [
      "<br>\n",
      "<br>"
     ]
    },
    {
     "cell_type": "heading",
     "level": 3,
     "metadata": {},
     "source": [
      "Annotating the language of the songs"
     ]
    },
    {
     "cell_type": "markdown",
     "metadata": {},
     "source": [
      "The following labels are being used to annotate the songs:  \n",
      "0 = no lyrics  \n",
      "1 = likely English  \n",
      "2 = likely non-English  "
     ]
    },
    {
     "cell_type": "code",
     "collapsed": false,
     "input": [
      "#df = df.loc[:3000, :]\n",
      "df['lang'] = pd.Series('', index=df.index)\n",
      "df.tail()"
     ],
     "language": "python",
     "metadata": {},
     "outputs": []
    },
    {
     "cell_type": "code",
     "collapsed": false,
     "input": [
      "import pyprind\n",
      "pbar = pyprind.ProgBar(df.shape[0])\n",
      "for row_id in df.index:\n",
      "    lyr = get_lyrics(artist=df.loc[row_id]['artist'].encode('utf-8'), title=df.loc[row_id]['title'].encode('utf-8'))\n",
      "    \n",
      "    if not lyr:\n",
      "        df.loc[row_id,'lang'] = 0\n",
      "    elif eng_ratio(lyr) >= 0.5:\n",
      "        df.loc[row_id,'lang'] = 1\n",
      "    else:\n",
      "        df.loc[row_id,'lang'] = 2\n",
      "    \n",
      "    pbar.update()"
     ],
     "language": "python",
     "metadata": {},
     "outputs": [
      {
       "output_type": "stream",
       "stream": "stderr",
       "text": [
        "0%                          100%\n"
       ]
      },
      {
       "output_type": "stream",
       "stream": "stderr",
       "text": [
        "[                              ]"
       ]
      }
     ]
    },
    {
     "cell_type": "code",
     "collapsed": false,
     "input": [
      "df[df['lang'] == 1].shape"
     ],
     "language": "python",
     "metadata": {},
     "outputs": []
    },
    {
     "cell_type": "code",
     "collapsed": false,
     "input": [
      "df = df[df['lang'] == 1]\n",
      "df.index = range(df.shape[0])\n",
      "df.tail()"
     ],
     "language": "python",
     "metadata": {},
     "outputs": [
      {
       "html": [
        "<div style=\"max-height:1000px;max-width:1500px;overflow:auto;\">\n",
        "<table border=\"1\" class=\"dataframe\">\n",
        "  <thead>\n",
        "    <tr style=\"text-align: right;\">\n",
        "      <th></th>\n",
        "      <th>artist</th>\n",
        "      <th>title</th>\n",
        "      <th>lang</th>\n",
        "    </tr>\n",
        "  </thead>\n",
        "  <tbody>\n",
        "    <tr>\n",
        "      <th>647</th>\n",
        "      <td> Suzanne Vega</td>\n",
        "      <td> Marlene On The Wall</td>\n",
        "      <td> 1</td>\n",
        "    </tr>\n",
        "    <tr>\n",
        "      <th>648</th>\n",
        "      <td>        Nelly</td>\n",
        "      <td>           St. Louie</td>\n",
        "      <td> 1</td>\n",
        "    </tr>\n",
        "    <tr>\n",
        "      <th>649</th>\n",
        "      <td>        Larue</td>\n",
        "      <td>              Reason</td>\n",
        "      <td> 1</td>\n",
        "    </tr>\n",
        "    <tr>\n",
        "      <th>650</th>\n",
        "      <td>   Liam Lynch</td>\n",
        "      <td>                 SOS</td>\n",
        "      <td> 1</td>\n",
        "    </tr>\n",
        "    <tr>\n",
        "      <th>651</th>\n",
        "      <td>        Oasis</td>\n",
        "      <td>  Boy With The Blues</td>\n",
        "      <td> 1</td>\n",
        "    </tr>\n",
        "  </tbody>\n",
        "</table>\n",
        "</div>"
       ],
       "metadata": {},
       "output_type": "pyout",
       "prompt_number": 20,
       "text": [
        "           artist                title lang\n",
        "647  Suzanne Vega  Marlene On The Wall    1\n",
        "648         Nelly            St. Louie    1\n",
        "649         Larue               Reason    1\n",
        "650    Liam Lynch                  SOS    1\n",
        "651         Oasis   Boy With The Blues    1"
       ]
      }
     ],
     "prompt_number": 20
    },
    {
     "cell_type": "code",
     "collapsed": false,
     "input": [
      "df = df[df['lang'] == 1]\n",
      "\n",
      "conn = sqlite3.connect('../../dataset/random_subsets/artist_title_650.sqlite')\n",
      "df[df['lang'] == 1].loc[:649,:].to_sql(name='artist_title', con=conn)\n",
      "conn.commit()\n",
      "conn.close()"
     ],
     "language": "python",
     "metadata": {},
     "outputs": [],
     "prompt_number": 21
    },
    {
     "cell_type": "markdown",
     "metadata": {},
     "source": [
      "<br>\n",
      "<br>"
     ]
    },
    {
     "cell_type": "heading",
     "level": 3,
     "metadata": {},
     "source": [
      "Pick a random song from the database"
     ]
    },
    {
     "cell_type": "code",
     "collapsed": false,
     "input": [
      "conn = sqlite3.connect('../../dataset/random_subsets/artist_title_650.sqlite')\n",
      "cursor = conn.cursor()\n",
      "sql = \"SELECT * FROM artist_title ORDER BY RANDOM() LIMIT 1;\"\n",
      "cursor.execute(sql)\n",
      "result = cursor.fetchone()\n",
      "artistname = result[1].decode('utf-8')\n",
      "songtitle = result[2].decode('utf-8')\n",
      "print('Arist: %s \\nSong: %s' % (artistname, songtitle))\n",
      "conn.close()"
     ],
     "language": "python",
     "metadata": {},
     "outputs": [
      {
       "output_type": "stream",
       "stream": "stdout",
       "text": [
        "Arist: Grave Digger \n",
        "Song: My blood will live forever\n"
       ]
      }
     ],
     "prompt_number": 27
    },
    {
     "cell_type": "markdown",
     "metadata": {},
     "source": [
      "<br>\n",
      "<br>"
     ]
    },
    {
     "cell_type": "heading",
     "level": 3,
     "metadata": {},
     "source": [
      "Check songs in the SQLite database"
     ]
    },
    {
     "cell_type": "code",
     "collapsed": false,
     "input": [
      "import sys\n",
      "import sqlite3\n",
      "\n",
      "conn = sqlite3.connect('../../dataset/million/artist_title.sqlite')\n",
      "c = conn.cursor()\n",
      "\n",
      "\n",
      "try:\n",
      "\n",
      "    for i in range(1000000):\n",
      "\n",
      "        \n",
      "\t    sys.stdout.write('\\r')\n",
      "\t    sys.stdout.write('%s' %i)\n",
      "\n",
      "\t    sql = \"SELECT * FROM artist_title WHERE language IS NULL LIMIT 1;\"\n",
      "\t    c.execute(sql)\n",
      "\t    result = c.fetchone()\n",
      "\t    row_id = result[0]\n",
      "\t    artistname = result[1].decode('utf-8')\n",
      "\t    songtitle = result[2].decode('utf-8')\n",
      "    \n",
      "    \n",
      "\t    lyr = get_lyrics(artist=artistname, title=songtitle)\n",
      "    \n",
      "\t    lang = None\n",
      "\t    if not lyr:\n",
      "\t        lang = 0\n",
      "\t    elif eng_ratio(lyr) >= 0.5:\n",
      "\t        lang = 1\n",
      "\t    else:\n",
      "\t        lang = 2\n",
      "    \n",
      "\t    sql = \"UPDATE artist_title SET language=? WHERE rowid=?;\"\n",
      "    \n",
      "\t    c.execute(sql, (lang, row_id))\n",
      "    \n",
      "\t    sys.stdout.flush()\n",
      "        \n",
      "except KeyboardInterrupt:\n",
      "    pass\n",
      "finally:\n",
      "    conn.commit()\n",
      "    conn.close()\n"
     ],
     "language": "python",
     "metadata": {},
     "outputs": []
    },
    {
     "cell_type": "code",
     "collapsed": false,
     "input": [],
     "language": "python",
     "metadata": {},
     "outputs": []
    }
   ],
   "metadata": {}
  }
 ]
}